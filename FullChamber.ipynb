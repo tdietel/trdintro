{
 "cells": [
  {
   "cell_type": "code",
   "execution_count": null,
   "metadata": {},
   "outputs": [],
   "source": [
    "from pythreejs import *\n",
    "import ipywidgets\n",
    "import numpy as np\n",
    "from IPython.display import display"
   ]
  },
  {
   "cell_type": "code",
   "execution_count": null,
   "metadata": {},
   "outputs": [],
   "source": [
    "# Reduce repo churn for examples with embedded state:\n",
    "from pythreejs._example_helper import use_example_model_ids\n",
    "use_example_model_ids()"
   ]
  },
  {
   "cell_type": "code",
   "execution_count": null,
   "metadata": {},
   "outputs": [],
   "source": [
    "view_width = 1400\n",
    "view_height = 1000\n",
    "\n",
    "objects = []"
   ]
  },
  {
   "cell_type": "code",
   "execution_count": null,
   "metadata": {},
   "outputs": [],
   "source": [
    "# objects.append( [Mesh(\n",
    "#     PlaneBufferGeometry(5,5),\n",
    "#     MeshPhysicalMaterial(color='gold',side='DoubleSide'),\n",
    "#     position=[0,0,5]\n",
    "# )] )\n",
    "\n",
    "roc_width = 100\n",
    "roc_length = 100\n",
    "\n",
    "rob_y_pos = (-0.25*roc_width,0.25*roc_width)\n",
    "rob_z_pos = roc_width * np.linspace(-0.375,0.375,4)\n",
    "\n",
    "print(rob_z_pos)\n",
    "print(roc_width)"
   ]
  },
  {
   "cell_type": "code",
   "execution_count": null,
   "metadata": {},
   "outputs": [],
   "source": [
    "carbon_tex = ImageTexture(imageUri='img/Carbon.png')\n",
    "# diffuse.encoding = THREE.sRGBEncoding;\n",
    "#carbon_tex.wrapS = 'RepeatWrapping';\n",
    "# diffuse.wrapT = THREE.RepeatWrapping;\n",
    "# diffuse.repeat.x = 10;\n",
    "# diffuse.repeat.y = 10;\n",
    "\n",
    "carbon_normal_tex = ImageTexture(imageUri='img/Carbon_Normal.png')\n",
    "\n",
    "backpanel = Mesh(\n",
    "    BoxBufferGeometry(roc_width+2, 2, roc_length+2),\n",
    "    MeshPhysicalMaterial(color='black',metalness=0.6),\n",
    "#     MeshPhysicalMaterial(color='gray',mapNormal=carbon_tex),\n",
    "    position=[0,1.71,0]   \n",
    ")\n"
   ]
  },
  {
   "cell_type": "code",
   "execution_count": null,
   "metadata": {},
   "outputs": [],
   "source": [
    "radiator = Mesh(\n",
    "    BoxBufferGeometry(roc_width, 5, roc_length),\n",
    "    MeshPhysicalMaterial(color='white'),\n",
    "    position=[0,-5.5,0]   \n",
    ")\n",
    "\n",
    "robs = Group()\n",
    "\n",
    "for y in rob_y_pos:\n",
    "    for z in rob_z_pos:\n",
    "        robs.add( Mesh(\n",
    "            BoxBufferGeometry(30, 0.1, 20),\n",
    "            MeshPhysicalMaterial(color='green'),\n",
    "            position=[y,2.7,z]  \n",
    "        ))\n",
    "        \n",
    "padplane = Mesh(\n",
    "    PlaneBufferGeometry(roc_width,roc_length),\n",
    "    MeshPhysicalMaterial(color='gold',roughness=0.5,metalness=0.5,reflectivity=1.0),\n",
    "#     MeshPhysicalMaterial(color='gold',side='DoubleSide'),\n",
    "    position=[0,0.7,0], rotation=[0.5*np.pi,0,0,'XYZ']\n",
    ")"
   ]
  },
  {
   "cell_type": "code",
   "execution_count": null,
   "metadata": {},
   "outputs": [],
   "source": [
    "positions = []\n",
    "\n",
    "for z in np.linspace(-49.75,49.75,399):\n",
    "    positions.append( [ [-0.5*roc_width,0.0,z], [0.5*roc_width,0.0,z] ] )\n",
    "    \n",
    "# print(positions[:10])\n",
    "\n",
    "cathodewires = LineSegments2(\n",
    "    LineSegmentsGeometry(positions=positions),\n",
    "    LineMaterial(linewidth=2, color='red')\n",
    ")\n",
    "\n",
    "# cathodewires"
   ]
  },
  {
   "cell_type": "code",
   "execution_count": null,
   "metadata": {},
   "outputs": [],
   "source": [
    "positions = []\n",
    "\n",
    "for z in np.linspace(-49.5,49.5,199):\n",
    "    positions.append( [ [-0.5*roc_width,0.35,z], [0.5*roc_width,0.35,z] ] )\n",
    "    \n",
    "# print(positions)\n",
    "\n",
    "anodewires = LineSegments2(\n",
    "    LineSegmentsGeometry(positions=positions),\n",
    "    LineMaterial(linewidth=2, color='blue')\n",
    ")"
   ]
  },
  {
   "cell_type": "code",
   "execution_count": null,
   "metadata": {},
   "outputs": [],
   "source": [
    "track = LineSegments2(\n",
    "    LineSegmentsGeometry(positions=[\n",
    "        [[2, -10, 1], [3, 10, 5]],\n",
    "    ],),\n",
    "    LineMaterial(linewidth=4, color='green')\n",
    ")"
   ]
  },
  {
   "cell_type": "code",
   "execution_count": null,
   "metadata": {},
   "outputs": [],
   "source": [
    "camera = PerspectiveCamera( position=[200, -50, 50], aspect=view_width/view_height)\n",
    "key_light = DirectionalLight(position=[0, -1000, 0])\n",
    "ambient_light = AmbientLight()\n",
    "\n",
    "objects = []\n",
    "objects.append(camera)\n",
    "objects.append(key_light)\n",
    "objects.append(ambient_light)\n",
    "\n",
    "objects.append(backpanel)\n",
    "objects.append(radiator)\n",
    "objects.append(padplane)\n",
    "objects.append(cathodewires)\n",
    "objects.append(anodewires)\n",
    "objects.append(robs)\n",
    "\n",
    "objects.append(track)\n"
   ]
  },
  {
   "cell_type": "code",
   "execution_count": null,
   "metadata": {},
   "outputs": [],
   "source": [
    "scene = Scene(children=objects)\n",
    "controller = OrbitControls(controlling=camera)\n",
    "flycontroller = FlyControls(controlling=camera)\n",
    "renderer = Renderer(camera=camera, scene=scene, controls=[controller,flycontroller],\n",
    "                    width=view_width, height=view_height)\n",
    "\n",
    "renderer"
   ]
  },
  {
   "cell_type": "code",
   "execution_count": null,
   "metadata": {},
   "outputs": [],
   "source": [
    "positon_track = VectorKeyframeTrack(name='.position',\n",
    "    times=[0, 2, 5],\n",
    "    values=[10, 6, 10,\n",
    "            6.3, 3.78, 6.3,\n",
    "            -2.98, 0.84, 9.2,\n",
    "           ])\n",
    "rotation_track = QuaternionKeyframeTrack(name='.quaternion',\n",
    "    times=[0, 2, 5],\n",
    "    values=[-0.184, 0.375, 0.0762, 0.905,\n",
    "            -0.184, 0.375, 0.0762, 0.905,\n",
    "            -0.0430, -0.156, -0.00681, 0.987,\n",
    "           ])"
   ]
  },
  {
   "cell_type": "code",
   "execution_count": null,
   "metadata": {},
   "outputs": [],
   "source": [
    "camera_clip = AnimationClip(tracks=[positon_track, rotation_track])\n",
    "camera_action = AnimationAction(AnimationMixer(camera), camera_clip, camera)\n"
   ]
  },
  {
   "cell_type": "code",
   "execution_count": null,
   "metadata": {},
   "outputs": [],
   "source": [
    "print(camera)\n"
   ]
  },
  {
   "cell_type": "code",
   "execution_count": null,
   "metadata": {},
   "outputs": [],
   "source": [
    "print(camera)"
   ]
  },
  {
   "cell_type": "code",
   "execution_count": null,
   "metadata": {},
   "outputs": [],
   "source": [
    "view_width = 600\n",
    "view_height = 400\n",
    "camera = PerspectiveCamera(position=[10, 0, 0], aspect=view_width/view_height)\n",
    "key_light = DirectionalLight(position=[0, 10, 10])\n",
    "ambient_light = AmbientLight()"
   ]
  },
  {
   "cell_type": "code",
   "execution_count": null,
   "metadata": {},
   "outputs": [],
   "source": [
    "scene = Scene(children=[padplane, camera, key_light, ambient_light])\n",
    "controller = OrbitControls(controlling=camera, screenSpacePanning=False)\n",
    "renderer = Renderer(camera=camera, scene=scene, controls=[controller],\n",
    "                    width=view_width, height=view_height)"
   ]
  },
  {
   "cell_type": "code",
   "execution_count": null,
   "metadata": {},
   "outputs": [],
   "source": [
    "renderer"
   ]
  },
  {
   "cell_type": "code",
   "execution_count": null,
   "metadata": {},
   "outputs": [],
   "source": []
  },
  {
   "cell_type": "code",
   "execution_count": null,
   "metadata": {},
   "outputs": [],
   "source": []
  }
 ],
 "metadata": {
  "kernelspec": {
   "display_name": "Python 3",
   "language": "python",
   "name": "python3"
  },
  "language_info": {
   "codemirror_mode": {
    "name": "ipython",
    "version": 3
   },
   "file_extension": ".py",
   "mimetype": "text/x-python",
   "name": "python",
   "nbconvert_exporter": "python",
   "pygments_lexer": "ipython3",
   "version": "3.8.3"
  }
 },
 "nbformat": 4,
 "nbformat_minor": 4
}
