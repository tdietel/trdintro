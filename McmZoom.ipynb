{
 "cells": [
  {
   "cell_type": "code",
   "execution_count": null,
   "metadata": {},
   "outputs": [],
   "source": [
    "from pythreejs import *\n",
    "import ipywidgets\n",
    "import numpy as np\n",
    "from IPython.display import display"
   ]
  },
  {
   "cell_type": "code",
   "execution_count": null,
   "metadata": {},
   "outputs": [],
   "source": [
    "# Reduce repo churn for examples with embedded state:\n",
    "from pythreejs._example_helper import use_example_model_ids\n",
    "use_example_model_ids()"
   ]
  },
  {
   "cell_type": "code",
   "execution_count": null,
   "metadata": {},
   "outputs": [],
   "source": []
  },
  {
   "cell_type": "code",
   "execution_count": null,
   "metadata": {},
   "outputs": [],
   "source": [
    "pad_width = 8\n",
    "pad_length = 90\n",
    "\n",
    "min_pad = 17\n",
    "max_pad = 37\n",
    "min_row = 0\n",
    "max_row = 0\n",
    "min_mcm = 1\n",
    "max_mcm = 1"
   ]
  },
  {
   "cell_type": "code",
   "execution_count": null,
   "metadata": {},
   "outputs": [],
   "source": [
    "origin = Mesh(\n",
    "    SphereBufferGeometry(1, 8, 8),\n",
    "    MeshStandardMaterial(color='red')\n",
    ")"
   ]
  },
  {
   "cell_type": "code",
   "execution_count": null,
   "metadata": {},
   "outputs": [],
   "source": [
    "padplane = Group()\n",
    "\n",
    "# padplane.add()\n",
    "\n",
    "for x in pad_width*np.arange(min_pad+0.5, max_pad+1):\n",
    "    padplane.add( Mesh(\n",
    "        PlaneBufferGeometry(pad_width-0.5,pad_length-0.5),\n",
    "        MeshPhysicalMaterial(color='gold',roughness=0.5,metalness=0.5,reflectivity=1.0,side='DoubleSide'),\n",
    "        #     MeshPhysicalMaterial(color='gold',side='DoubleSide'),\n",
    "        position=[x,0,0.5*pad_length], rotation=[0.5*np.pi,0,0,'XYZ']\n",
    "))\n",
    "\n",
    "# padplane"
   ]
  },
  {
   "cell_type": "code",
   "execution_count": null,
   "metadata": {},
   "outputs": [],
   "source": [
    "mcmvol = Group()\n",
    "pasa = Group()\n",
    "trap = Group()\n",
    "\n",
    "\n",
    "for z in pad_length*np.arange(min_row+0.5, max_row+1):\n",
    "    for i in range(min_mcm,max_mcm+1):\n",
    "         \n",
    "        # First we calculate the first and the last pad within the MCM\n",
    "        x1 = 18*i - 1\n",
    "        x2 = 18*(i+1) + 2\n",
    "        \n",
    "        if x1<0: x1=0\n",
    "        if x2>144: x2=144\n",
    "            \n",
    "        # Now we add the active volume\n",
    "        mcmvol.add( Mesh(\n",
    "            BoxBufferGeometry((x2-x1)*pad_width, 37, pad_length-2),\n",
    "            MeshPhysicalMaterial(color='gray',transparent=True, opacity=0.2),\n",
    "            position=[0.5*(x1+x2)*pad_width, 37*0.5, z] \n",
    "        ))\n",
    "\n",
    "        # Now we add draw the region for the TRAP\n",
    "        if i%2: d = 0\n",
    "        else: d = 4\n",
    "        \n",
    "        trap.add( Mesh(\n",
    "            BoxBufferGeometry((x2-x1)*pad_width, 3, pad_length-2),\n",
    "            MeshPhysicalMaterial(color='gray'),\n",
    "            position=[0.5*(x1+x2)*pad_width, -6-d, z] \n",
    "        ))\n",
    "\n",
    "        # and finally the PASA, i.e. the pads that are connected to one MCM\n",
    "        pasa.add( Mesh(\n",
    "            BoxBufferGeometry(18*pad_width-2, 3, pad_length-2),\n",
    "            MeshPhysicalMaterial(color='black'),\n",
    "            position=[(18*i + 9)*pad_width, -3, z] \n",
    "        ))\n",
    "        "
   ]
  },
  {
   "cell_type": "code",
   "execution_count": null,
   "metadata": {},
   "outputs": [],
   "source": [
    "positions = []\n",
    "\n",
    "for z in np.arange(0.125,pad_length+1,2.5):\n",
    "#     x = 0.55*npads*pad_width\n",
    "    positions.append( [ [min_pad*pad_width,7,z], [(max_pad+1)*pad_width,7,z] ] )\n",
    "#     positions.append( [ [-10-pad_width,7.0,z], [20*pad_width+10,7.0,z] ] )\n",
    "    \n",
    "cathodewires = LineSegments2(\n",
    "    LineSegmentsGeometry(positions=positions),\n",
    "    LineMaterial(linewidth=1, color='blue')\n",
    ")\n",
    "\n",
    "# cathodewires"
   ]
  },
  {
   "cell_type": "code",
   "execution_count": null,
   "metadata": {},
   "outputs": [],
   "source": [
    "positions = []\n",
    "\n",
    "for z in np.arange(0.25,pad_length+1,5):\n",
    "#     x = 0.55*npads*pad_width\n",
    "    positions.append( [ [min_pad*pad_width,3.5,z], [(max_pad+1)*pad_width,3.5,z] ] )\n",
    "    \n",
    "anodewires = LineSegments2(\n",
    "    LineSegmentsGeometry(positions=positions),\n",
    "    LineMaterial(linewidth=2, color='red')\n",
    ")\n",
    "\n",
    "# anodewires"
   ]
  },
  {
   "cell_type": "code",
   "execution_count": null,
   "metadata": {},
   "outputs": [],
   "source": [
    "track = LineSegments2(\n",
    "    LineSegmentsGeometry(positions=[\n",
    "        [[200, -20, 30], [230, 50, 50]],\n",
    "    ],),\n",
    "    LineMaterial(linewidth=4, color='green')\n",
    ")"
   ]
  },
  {
   "cell_type": "code",
   "execution_count": null,
   "metadata": {},
   "outputs": [],
   "source": [
    "trackletline = LineSegments2(\n",
    "    LineSegmentsGeometry(positions=[\n",
    "        [[200, -20, 45], [230, 50, 45]],\n",
    "    ],),\n",
    "    LineMaterial(linewidth=4, color='blue')\n",
    ")"
   ]
  },
  {
   "cell_type": "code",
   "execution_count": null,
   "metadata": {},
   "outputs": [],
   "source": [
    "tracklet = Mesh(\n",
    "    PlaneBufferGeometry(pad_length,37),\n",
    "    MeshPhysicalMaterial(color='blue',transparent=True, opacity=0.2,side='DoubleSide'),\n",
    "    #     MeshPhysicalMaterial(color='gold',side='DoubleSide'),\n",
    "    position=[200,20,0.5*pad_length], rotation=[0.3,0.5*np.pi,0.1,'XYZ']\n",
    ")\n",
    "\n",
    "# padplane"
   ]
  },
  {
   "cell_type": "code",
   "execution_count": null,
   "metadata": {},
   "outputs": [],
   "source": [
    "view_width = 800\n",
    "view_height = 700\n",
    "\n",
    "camera = PerspectiveCamera( position=[200, 50, 50], aspect=view_width/view_height)\n",
    "key_light = DirectionalLight(position=[200, 1000, 400])\n",
    "ambient_light = AmbientLight()\n",
    "\n",
    "objects = []\n",
    "\n",
    "objects.append(camera)\n",
    "objects.append(key_light)\n",
    "objects.append(ambient_light)\n",
    "\n",
    "objects.append(origin)\n",
    "\n",
    "# objects.append(mcmvol)\n",
    "objects.append(trap)\n",
    "objects.append(pasa)\n",
    "\n",
    "objects.append(padplane)\n",
    "objects.append(cathodewires)\n",
    "objects.append(anodewires)\n",
    "\n",
    "objects.append(track)\n",
    "objects.append(trackletline)\n",
    "objects.append(tracklet)\n"
   ]
  },
  {
   "cell_type": "code",
   "execution_count": null,
   "metadata": {},
   "outputs": [],
   "source": [
    "scene = Scene(children=objects)\n",
    "controller = OrbitControls(controlling=camera,target=[0.5*pad_width*(min_pad+max_pad),20,45])\n",
    "flycontroller = FlyControls(controlling=camera)\n",
    "renderer = Renderer(camera=camera, scene=scene, controls=[controller,flycontroller],\n",
    "                    width=view_width, height=view_height)\n",
    "\n",
    "renderer"
   ]
  }
 ],
 "metadata": {
  "kernelspec": {
   "display_name": "Python 3",
   "language": "python",
   "name": "python3"
  },
  "language_info": {
   "codemirror_mode": {
    "name": "ipython",
    "version": 3
   },
   "file_extension": ".py",
   "mimetype": "text/x-python",
   "name": "python",
   "nbconvert_exporter": "python",
   "pygments_lexer": "ipython3",
   "version": "3.8.3"
  }
 },
 "nbformat": 4,
 "nbformat_minor": 4
}
